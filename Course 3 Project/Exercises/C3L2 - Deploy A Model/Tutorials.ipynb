{
 "cells": [
  {
   "metadata": {},
   "cell_type": "markdown",
   "source": "# Deploy a Model",
   "id": "2dc0d017c06f87e4"
  },
  {
   "metadata": {},
   "cell_type": "markdown",
   "source": [
    "## 1. Security and Authenication\n",
    "1. Vào Azure PowerShell\n",
    "2. Authenicate account\n",
    "\n",
    "    ```bash\n",
    "    az login\n",
    "    ```\n",
    "\n",
    "3. Cài đặt Azure CLI ML tool\n",
    "\n",
    "    ```bash\n",
    "    az extension add -n azure-cli-ml\n",
    "    ```\n",
    "\n",
    "4. Tạo Service Principal role-based acces controll (ad=active directory)\n",
    "\n",
    "    ```bash\n",
    "    az ad sp create-for-rbac --sdk-auth --name ml-auth\n",
    "    ```\n",
    "\n",
    "5. Copy phần **clientId** từ output và chạy:\n",
    "\n",
    "    ```bash\n",
    "    az ad sp show --id <clientId>\n",
    "    ```\n",
    "\n",
    "6. Copy phần **objectId** từ output và cấp cho Service Principle access vào workspace\n",
    "   ```bash\n",
    "   az ml worskspace share -w Demo -g demo --user <objectId> --role owner\n",
    "   ```"
   ],
   "id": "b048fa889d9bc9f"
  },
  {
   "metadata": {},
   "cell_type": "markdown",
   "source": [
    "##  2. Deploy a ML Model\n",
    "\n",
    "1. Tạo dataset từ file `bike-no.csv`\n",
    "\n",
    "2. Vào **ML Studio** -> **Automated ML** -> **New Automatead ML job** -> Chọn Task là `Regression`, Target column là `cnt` -> Set validation and test như dưới -> **Next** -> Chọn Compute instance -> **Next** -> **Submit**\n",
    "\n",
    "   <img src=\"images/azure1.png\" width=1500>\n",
    "\n",
    "2. Đợi job chạy xong -> Ấn vào job -> **Deploy** -> Web service, chọn Compute type là `Azure Container Service`, bật `Enable authenication`, xong ấn **Deploy**.\n",
    "\n",
    "   <img src=\"images/azure2.png\" width=1500>"
   ],
   "id": "482c0d717f9fe329"
  },
  {
   "metadata": {},
   "cell_type": "markdown",
   "source": [
    "## 3. Enable Application Insights\n",
    "1. Ấn vào account góc trên bên phải -> **Download config file**\n",
    "\n",
    "   <img src=\"images/azure3.png\" width=500>\n",
    "\n",
    "2. Trong file `logs.py`, đặt deployment name. -> Chạy file để enable Application Insights.\n",
    "\n",
    "3. Vào endpoint, kiểm tra phần \"Application insights enabled\"\n",
    "\n",
    "   <img src=\"images/azure4.png\" width=500>"
   ],
   "id": "86c04462fa6c3c1"
  }
 ],
 "metadata": {
  "kernelspec": {
   "display_name": "Python 3",
   "language": "python",
   "name": "python3"
  },
  "language_info": {
   "codemirror_mode": {
    "name": "ipython",
    "version": 2
   },
   "file_extension": ".py",
   "mimetype": "text/x-python",
   "name": "python",
   "nbconvert_exporter": "python",
   "pygments_lexer": "ipython2",
   "version": "2.7.6"
  }
 },
 "nbformat": 4,
 "nbformat_minor": 5
}
