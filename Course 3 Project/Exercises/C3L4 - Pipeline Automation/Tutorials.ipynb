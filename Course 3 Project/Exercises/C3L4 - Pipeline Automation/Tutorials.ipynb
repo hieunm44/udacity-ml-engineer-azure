{
 "cells": [
  {
   "metadata": {},
   "cell_type": "markdown",
   "source": "# Pipeline Automation",
   "id": "d5c9e30c594aa492"
  },
  {
   "metadata": {},
   "cell_type": "markdown",
   "source": [
    "1. Vào **Azure ML Studio** -> **Notebooks** -> Up file `aml-exercise-pipelines-with-automated-machine-learning-step.ipynb` lên -> Chạy đến hết bước \"Retrieve Best Model\". \\\n",
    "   Sẽ tạo ra 1 pipeline.\n",
    "\n",
    "2. (Optional, ở đây ta publish endpoint bằng UI) Vào **Pipelines** -> Vào pipeline đã tạo -> **Publish** -> Create new -> Điền tên -> **Publish**\n",
    "\n",
    "3. Chạy nốt các bước ở \"Publish and run from REST endpoint\" trong code."
   ],
   "id": "39e0ac80b8e17f9c"
  }
 ],
 "metadata": {
  "kernelspec": {
   "display_name": "Python 3",
   "language": "python",
   "name": "python3"
  },
  "language_info": {
   "codemirror_mode": {
    "name": "ipython",
    "version": 2
   },
   "file_extension": ".py",
   "mimetype": "text/x-python",
   "name": "python",
   "nbconvert_exporter": "python",
   "pygments_lexer": "ipython2",
   "version": "2.7.6"
  }
 },
 "nbformat": 4,
 "nbformat_minor": 5
}
