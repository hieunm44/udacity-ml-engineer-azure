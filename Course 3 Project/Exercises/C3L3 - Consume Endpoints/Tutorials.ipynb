{
 "cells": [
  {
   "metadata": {},
   "cell_type": "markdown",
   "source": "# Consume Endpoints",
   "id": "41f71216b100c18b"
  },
  {
   "metadata": {},
   "cell_type": "markdown",
   "source": [
    "## 1. Swagger Documentation\n",
    "1. Vào **AzureML Studio** -> **Endpoints** -> Vào một Endpoint, kéo xuống Swagger URI\n",
    "\n",
    "   <img src=\"images/azure1.png\" width=400>\n",
    "\n",
    "2. Vào PowerShell tải `swagger.json`, rồi move vào folder `Swagger`\n",
    "    ```bash\n",
    "    wget <Swagger URI>\n",
    "    ```\n",
    "\n",
    "3. Chạy\n",
    "    ```bash\n",
    "    ./swagger.sh\n",
    "    ```\n",
    "\n",
    "    Mở `localhost` để kiểm tra\n",
    "\n",
    "4. Mở một terminal khác và chạy\n",
    "    ```bash\n",
    "    python server.py\n",
    "    ```\n",
    "\n",
    "    Xem `localhost:8000/swagger.json`\n",
    "\n",
    "Link video: https://www.youtube.com/watch?v=3I-Oro-SWQs&t=371s"
   ],
   "id": "8f5b62d42e2cffd9"
  },
  {
   "metadata": {},
   "cell_type": "markdown",
   "source": [
    "## 2. Consume Deployed Service\n",
    "1. Vào một endpoint. Có 2 chỗ có thể tìm thấy URL. Một là kéo xuống REST endpoint, hai là vào tab **Consume**.\n",
    "\n",
    "   <img src=\"images/azure2.png\" width=400>\n",
    "   <img src=\"images/azure3.png\" width=300>\n",
    "\n",
    "2. Vào file `endpoint.py` -> Điền URl và key -> Chạy file này để có prediction.\n",
    "\n",
    "## 3. Benchmark the Endpoint\n",
    "Vào file `benchmark.sh` -> Điền URl và key -> Chạy file này"
   ],
   "id": "7e3fe67f2ba19eaf"
  }
 ],
 "metadata": {
  "kernelspec": {
   "display_name": "Python 3",
   "language": "python",
   "name": "python3"
  },
  "language_info": {
   "codemirror_mode": {
    "name": "ipython",
    "version": 2
   },
   "file_extension": ".py",
   "mimetype": "text/x-python",
   "name": "python",
   "nbconvert_exporter": "python",
   "pygments_lexer": "ipython2",
   "version": "2.7.6"
  }
 },
 "nbformat": 4,
 "nbformat_minor": 5
}
