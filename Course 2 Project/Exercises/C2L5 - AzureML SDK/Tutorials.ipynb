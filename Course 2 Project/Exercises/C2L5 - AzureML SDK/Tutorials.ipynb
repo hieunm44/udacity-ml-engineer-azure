{
 "cells": [
  {
   "metadata": {},
   "cell_type": "markdown",
   "source": "# AzureML SDK",
   "id": "6ae5334d2ed7b8a0"
  },
  {
   "metadata": {},
   "cell_type": "markdown",
   "source": [
    "## 1. Managing Data with SDK\n",
    "1. Tải dataset: https://video.udacity-data.com/topher/2020/September/5f73bfb8_nba-2017-players-with-salary-wiki-twitter/nba-2017-players-with-salary-wiki-twitter.csv\n",
    "2. Tạo một data asset từ file vừa tải. Vào data asset vừa tạo -> **Consume** -> Copy code\n",
    "\n",
    "   <img src=\"images/azure1.png\" width=1000>\n",
    "\n",
    "3. Vào **Compute** → Mở **Jupyter** → Tạo notebook từ Azure ML và paste code ở trên vào -> Run để xem data\n",
    "\n",
    "   <img src=\"images/azure2.png\" width=1000>\n",
    "\n",
    "## 2. Managing Experiments with SDK\n",
    "Xem file `nyc-taxi-data-regression-model-building.ipynb`."
   ],
   "id": "c625875f6b543323"
  }
 ],
 "metadata": {
  "kernelspec": {
   "display_name": "Python 3",
   "language": "python",
   "name": "python3"
  },
  "language_info": {
   "codemirror_mode": {
    "name": "ipython",
    "version": 2
   },
   "file_extension": ".py",
   "mimetype": "text/x-python",
   "name": "python",
   "nbconvert_exporter": "python",
   "pygments_lexer": "ipython2",
   "version": "2.7.6"
  }
 },
 "nbformat": 4,
 "nbformat_minor": 5
}
