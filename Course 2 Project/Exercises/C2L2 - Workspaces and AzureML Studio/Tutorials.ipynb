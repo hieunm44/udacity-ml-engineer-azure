{
 "cells": [
  {
   "metadata": {},
   "cell_type": "markdown",
   "source": "# Workspaces and AzureML Studio",
   "id": "277a66b9d89265d0"
  },
  {
   "metadata": {},
   "cell_type": "markdown",
   "source": [
    "## Overview\n",
    "1. Tạo resource Azure Machine Learning -> Vào Studio -> Tạo Compute instance và Compute cluster (có các nodes bên trong)\n",
    "2. Ở Compute instance, tạo AksCompute cluster"
   ],
   "id": "f461ddb1a2563008"
  },
  {
   "metadata": {},
   "cell_type": "markdown",
   "source": [
    "1. Vào **Create a resource** -> **AI + Machine Learning** -> **Azure Machine Learning** -> **Review + create** -> **Create**\n",
    "\n",
    "   <img src=\"images/azure1.png\" width=700>\n",
    "\n",
    "2. Vào workspace vừa tạo -> **Launch Studio** -> **Compute** -> **Compute instances** -> **New** -> **Review + Create** -> **Create**\n",
    "\n",
    "   <img src=\"images/azure2.png\" width=1500>\n",
    "\n",
    "3. Vào tab **Compute clusters** -> **New** -> **Next**\n",
    "\n",
    "   <img src=\"images/azure3.png\" width=1500>\n",
    "\n",
    "   Đặt Maximum number of nodes là `4` -> **Create**\n",
    "\n",
    "   <img src=\"images/azure4.png\" width=1500>\n",
    "\n",
    "4. Quay lại tab Compute instances -> Ấn **Jupyter** để vào Notebook\n",
    "\n",
    "5. Quay lại **Compute** -> Vào tab **Kubernetes clusters** -> **New** -> **AksCompute** -> **Next** -> **Create**\n",
    "\n",
    "   <img src=\"images/azure5.png\" width=1000>"
   ],
   "id": "6aa5e0904578e402"
  }
 ],
 "metadata": {
  "kernelspec": {
   "display_name": "Python 3",
   "language": "python",
   "name": "python3"
  },
  "language_info": {
   "codemirror_mode": {
    "name": "ipython",
    "version": 2
   },
   "file_extension": ".py",
   "mimetype": "text/x-python",
   "name": "python",
   "nbconvert_exporter": "python",
   "pygments_lexer": "ipython2",
   "version": "2.7.6"
  }
 },
 "nbformat": 4,
 "nbformat_minor": 5
}
