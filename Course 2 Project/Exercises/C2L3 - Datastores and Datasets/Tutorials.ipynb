{
 "cells": [
  {
   "metadata": {},
   "cell_type": "markdown",
   "source": "# Datastores and Datasets",
   "id": "68d59661881a74e1"
  },
  {
   "metadata": {},
   "cell_type": "markdown",
   "source": [
    "## Overview\n",
    "Tải dataset `.csv` -> Vào ML Studio -> Tạo Data asset từ up file này lên -> Tạo 1 Data asset nữa từ Azure Open Datasets"
   ],
   "id": "5a77a9ba73cfefc"
  },
  {
   "metadata": {},
   "cell_type": "markdown",
   "source": [
    "## 1. Managing Data\n",
    "\n",
    "1. Tải dataset: https://video.udacity-data.com/topher/2020/September/5f7219dc_sugar/sugar.csv\n",
    "2. Vào **ML Studio** -> **Data** -> **Create** -> Đặt Name là `sugar-dataset`, chọn Type là `Tabular` -> **Next**\n",
    "\n",
    "    <img src=\"images/azure1.png\" width=800>\n",
    "\n",
    "3. Chọn `From local files` -> **Next**\n",
    "\n",
    "   <img src=\"images/azure2.png\" width=1000>\n",
    "\n",
    "4. Để nguyên -> **Next**\n",
    "\n",
    "   <img src=\"images/azure3.png\" width=1000>\n",
    "\n",
    "5. Tải file lên -> **Next**\n",
    "\n",
    "   <img src=\"images/azure4.png\" width=800>\n",
    "\n",
    "6. Set như dưới -> **Next** -> **Next** -> **Create**\n",
    "   <img src=\"images/azure5.png\" width=1000>\n",
    "\n",
    "7. Vào tab **Explore** để xem data.\n",
    "\n",
    "   <img src=\"images/azure6.png\" width=1000>"
   ],
   "id": "36e80aacd9e20e66"
  },
  {
   "metadata": {},
   "cell_type": "markdown",
   "source": [
    "## 2. Using Datasets in Notebook\n",
    "1. Tạo một data asset khác -> Đặt Name là `diabetes-data`, chọn Type là `Tabular` -> **Next**\n",
    "2. Chọn `From Azure Open Datasets` -> **Next**\n",
    "\n",
    "   <img src=\"images/azure7.png\" width=1000>\n",
    "\n",
    "3. Chọn `Sample:Diabetes` -> **Next** -> **Next** -> **Create**"
   ],
   "id": "ed8eeb575b912906"
  }
 ],
 "metadata": {
  "kernelspec": {
   "display_name": "Python 3",
   "language": "python",
   "name": "python3"
  },
  "language_info": {
   "codemirror_mode": {
    "name": "ipython",
    "version": 2
   },
   "file_extension": ".py",
   "mimetype": "text/x-python",
   "name": "python",
   "nbconvert_exporter": "python",
   "pygments_lexer": "ipython2",
   "version": "2.7.6"
  }
 },
 "nbformat": 4,
 "nbformat_minor": 5
}
