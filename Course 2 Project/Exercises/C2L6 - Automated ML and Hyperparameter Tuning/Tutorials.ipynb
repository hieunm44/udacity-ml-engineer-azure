{
 "cells": [
  {
   "metadata": {},
   "cell_type": "markdown",
   "source": "# Automated ML and Hyperparameter Tuning",
   "id": "8e85b77a483392a0"
  },
  {
   "metadata": {},
   "cell_type": "markdown",
   "source": [
    "## 1. Hyperparameter Tuning with HyperDrive\n",
    "1. Vào **Designer** -> `Tune Parameters for Binary with Classification`\n",
    "2. Trong block **Tune Model Hyperparameters,** chọn **mode** là `Entire` , Metric là `AUC` và `MAE`.\n",
    "\n",
    "   <img src=\"images/azure1.png\" width=600>\n",
    "\n",
    "3. Submit. Đợi job chạy xong, vào kiểm tra metrics\n",
    "\n",
    "   <img src=\"images/azure2.png\" width=1500>\n",
    "\n",
    "\n",
    "4. **Hyperparameter Tuning with SDK**: Xem file `train-hyperparameter-tune-deploy-with-keras.ipynb`"
   ],
   "id": "ea998f78046e9165"
  },
  {
   "metadata": {},
   "cell_type": "markdown",
   "source": [
    "## 2. AutoML\n",
    "1. Trong **ML Studio**, vào **Automated ML** -> **New Autmotated ML job** -> Chọn Task type là `Classification`, Data là `Nba-Dataset`.\n",
    "   <img src=\"images/azure3.png\" width=1000>\n",
    "\n",
    "2. Settings như dưới\n",
    "   <img src=\"images/azure4.png\" width=1000>\n",
    "\n",
    "3. **AutoML with SDK**: Vào **Compute** -> **Compute instances** -> **Jupyter** -> Up file `AutoML.ipynb` lên. \\\n",
    "   Vào Data asset \"Nba-Dataset\" -> **Consume** -> Copy code vào notebook."
   ],
   "id": "1c1f69c2f637a88b"
  }
 ],
 "metadata": {
  "kernelspec": {
   "display_name": "Python 3",
   "language": "python",
   "name": "python3"
  },
  "language_info": {
   "codemirror_mode": {
    "name": "ipython",
    "version": 2
   },
   "file_extension": ".py",
   "mimetype": "text/x-python",
   "name": "python",
   "nbconvert_exporter": "python",
   "pygments_lexer": "ipython2",
   "version": "2.7.6"
  }
 },
 "nbformat": 4,
 "nbformat_minor": 5
}
