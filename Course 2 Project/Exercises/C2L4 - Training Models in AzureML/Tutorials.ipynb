{
 "cells": [
  {
   "metadata": {},
   "cell_type": "markdown",
   "source": "# Training Models in AzureML",
   "id": "30295a543eb953b5"
  },
  {
   "metadata": {},
   "cell_type": "markdown",
   "source": [
    "## 1. Introduction to Designer\n",
    "1. Vào **ML Studio** -> **Designer** -> Chọn `Regression - Automobile Proce Prediction`\n",
    "\n",
    "   <img src=\"images/azure1.png\" width=1500>\n",
    "\n",
    "2. Chọn **Configure and Submit** -> Chọn Compute cluster đã tạo\n",
    "\n",
    "   <img src=\"images/azure2.png\" width=700>\n",
    "   <br>\n",
    "   <img src=\"images/azure3.png\" width=700>\n",
    "\n",
    "3. Chọn **Review+Submit** → **Submit**. Vào tab **Jobs** để kiểm tra. Đợi job chạy xong, ấn vào job để kiểm tra\n",
    "\n",
    "   <img src=\"images/azure4.png\" width=1500>"
   ],
   "id": "ed6bd3d86ac637b5"
  },
  {
   "metadata": {},
   "cell_type": "markdown",
   "source": [
    "## 2. Hyperparameters in Experiments\n",
    "1. Vào **Designer** -> Chọn `Tune Parameters for Binary Class`.\n",
    "2. Ấn vào block \"Tune Model Hyperparameters\" để xem kĩ -> Submit job như ở trên\n",
    "\n",
    "   <img src=\"images/azure5.png\" width=1500>"
   ],
   "id": "1ae0834011a366fc"
  }
 ],
 "metadata": {
  "kernelspec": {
   "display_name": "Python 3",
   "language": "python",
   "name": "python3"
  },
  "language_info": {
   "codemirror_mode": {
    "name": "ipython",
    "version": 2
   },
   "file_extension": ".py",
   "mimetype": "text/x-python",
   "name": "python",
   "nbconvert_exporter": "python",
   "pygments_lexer": "ipython2",
   "version": "2.7.6"
  }
 },
 "nbformat": 4,
 "nbformat_minor": 5
}
